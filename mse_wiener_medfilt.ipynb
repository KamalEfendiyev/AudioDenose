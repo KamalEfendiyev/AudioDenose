{
  "nbformat": 4,
  "nbformat_minor": 0,
  "metadata": {
    "colab": {
      "provenance": []
    },
    "kernelspec": {
      "name": "python3",
      "display_name": "Python 3"
    },
    "language_info": {
      "name": "python"
    }
  },
  "cells": [
    {
      "cell_type": "code",
      "source": [
        "import os\n",
        "import numpy as np\n",
        "import soundfile as sf\n",
        "from sklearn.metrics import mean_squared_error\n",
        "\n",
        "# Функция для вычисления MSE между двумя аудиофайлами\n",
        "def compute_mse(clean_file, denoised_file):\n",
        "    clean_signal, sr_clean = sf.read(clean_file)\n",
        "    denoised_signal, sr_denoised = sf.read(denoised_file)\n",
        "\n",
        "    # Для выравнивания длины сигналов используем минимальную длину\n",
        "    min_len = min(len(clean_signal), len(denoised_signal))\n",
        "    clean_signal = clean_signal[:min_len]\n",
        "    denoised_signal = denoised_signal[:min_len]\n",
        "\n",
        "    # Вычисляем MSE между сигналами\n",
        "    mse = mean_squared_error(clean_signal, denoised_signal)\n",
        "\n",
        "    return mse\n",
        "\n",
        "# Пути к директориям с аудиофайлами\n",
        "clean_dir = \"/content/drive/MyDrive/clean_dataset/clean_street_music\"\n",
        "denoised_dir = \"/content/medfilt_dataset/medfilt_street_music\"\n",
        "\n",
        "# Получаем список файлов из каждой директории\n",
        "clean_files = os.listdir(clean_dir)\n",
        "denoised_files = os.listdir(denoised_dir)\n",
        "\n",
        "# Проверяем, что обе директории содержат одинаковое количество файлов\n",
        "if len(clean_files) != len(denoised_files):\n",
        "    print(\"Ошибка: количество файлов в директориях не совпадает.\")\n",
        "    exit()\n",
        "\n",
        "# Вычисляем среднее MSE между каждой парой файлов\n",
        "total_mse = 0\n",
        "for clean_file, denoised_file in zip(clean_files, denoised_files):\n",
        "    clean_path = os.path.join(clean_dir, clean_file)\n",
        "    denoised_path = os.path.join(denoised_dir, denoised_file)\n",
        "\n",
        "    mse = compute_mse(clean_path, denoised_path)\n",
        "    total_mse += mse\n",
        "\n",
        "# Вычисляем среднее MSE\n",
        "mean_mse = total_mse / 5\n",
        "print(\"Среднее MSE между парами файлов:\", mean_mse)\n"
      ],
      "metadata": {
        "id": "1f72jTsCj6_p"
      },
      "execution_count": null,
      "outputs": []
    }
  ]
}