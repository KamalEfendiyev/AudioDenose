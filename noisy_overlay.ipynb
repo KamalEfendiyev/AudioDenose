{
  "nbformat": 4,
  "nbformat_minor": 0,
  "metadata": {
    "colab": {
      "provenance": []
    },
    "kernelspec": {
      "name": "python3",
      "display_name": "Python 3"
    },
    "language_info": {
      "name": "python"
    }
  },
  "cells": [
    {
      "cell_type": "code",
      "source": [
        "!pip install pydub"
      ],
      "metadata": {
        "id": "J2eVsWtdUKdl"
      },
      "execution_count": null,
      "outputs": []
    },
    {
      "cell_type": "code",
      "source": [
        "!pip install wget"
      ],
      "metadata": {
        "id": "0EKhPKd8U1_G"
      },
      "execution_count": null,
      "outputs": []
    },
    {
      "cell_type": "code",
      "source": [
        "import os\n",
        "from pydub import AudioSegment\n",
        "\n",
        "# Пути к папкам с чистыми и шумовыми аудиофайлами\n",
        "clean_audio_dir = '/content/drive/MyDrive/clean_dataset/clean_air_conditioner'\n",
        "noise_audio_dir = '/content/drive/MyDrive/мага/noise_dataset/street_music'\n",
        "\n",
        "# Создание папки для зашумленных аудиофайлов\n",
        "noisy_audio_dir = '/content/drive/MyDrive/mix_noisy_dataset/noisy_street_music'\n",
        "os.makedirs(noisy_audio_dir, exist_ok=True)\n",
        "\n",
        "# Получение списка чистых и шумовых аудиофайлов\n",
        "clean_audio_files = os.listdir(clean_audio_dir)[:]\n",
        "noise_audio_files = os.listdir(noise_audio_dir)[:]\n",
        "\n",
        "# Перебор чистых аудиофайлов и наложение на них шума\n",
        "for clean_file in clean_audio_files:\n",
        "    # Загрузка чистого аудиофайла\n",
        "    clean_audio = AudioSegment.from_wav(os.path.join(clean_audio_dir, clean_file))\n",
        "\n",
        "    # Получение соответствующего шумового аудиофайла по индексу\n",
        "    index = clean_audio_files.index(clean_file)\n",
        "    #if index < len(noise_audio_files):\n",
        "    noise_file = noise_audio_files[index%len(noise_audio_files)-1]\n",
        "    noise_audio = AudioSegment.from_wav(os.path.join(noise_audio_dir, noise_file))\n",
        "\n",
        "        # Приведение длины шума к длине чистого аудиофайла\n",
        "    noise_audio = noise_audio * (len(clean_audio) // len(noise_audio) + 1)\n",
        "    noise_audio = noise_audio[:len(clean_audio)]\n",
        "\n",
        "        # Наложение шума на чистое аудио\n",
        "    noisy_audio = clean_audio.overlay(noise_audio)\n",
        "\n",
        "        # Сохранение зашумленного аудиофайла\n",
        "    noisy_audio.export(os.path.join(noisy_audio_dir, clean_file), format=\"wav\")\n",
        "\n",
        "print(\"Процесс завершен.\")"
      ],
      "metadata": {
        "id": "YrnQjHHmU6Vm"
      },
      "execution_count": null,
      "outputs": []
    }
  ]
}