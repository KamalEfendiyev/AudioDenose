{
  "nbformat": 4,
  "nbformat_minor": 0,
  "metadata": {
    "colab": {
      "provenance": []
    },
    "kernelspec": {
      "name": "python3",
      "display_name": "Python 3"
    },
    "language_info": {
      "name": "python"
    }
  },
  "cells": [
    {
      "cell_type": "code",
      "execution_count": null,
      "metadata": {
        "id": "WQCG9mSkSeqT"
      },
      "outputs": [],
      "source": [
        "# преобразование аудиофайлов в спектограмму\n",
        "import os\n",
        "import librosa\n",
        "import numpy as np\n",
        "import cv2\n",
        "from tqdm import tqdm\n",
        "\n",
        "def load_and_preprocess_data(data_directory, img_size=(100, 100)):\n",
        "    X = []\n",
        "    y = []\n",
        "\n",
        "    # Сканируем директорию для файлов\n",
        "    for label in os.listdir(data_directory):\n",
        "        label_dir = os.path.join(data_directory, label)\n",
        "        if os.path.isdir(label_dir):\n",
        "            for file in tqdm(os.listdir(label_dir), desc=f\"Processing {label}\"):\n",
        "                file_path = os.path.join(label_dir, file)\n",
        "                # Загружаем аудиозапись с использованием librosa\n",
        "                try:\n",
        "                    audio, sr = librosa.load(file_path, sr=None, mono=True)\n",
        "                except Exception as e:\n",
        "                    print(f\"Error loading {file_path}: {e}\")\n",
        "                    continue\n",
        "\n",
        "                # Преобразуем аудио в мел-спектрограмму\n",
        "                mel_spec = librosa.feature.melspectrogram(y=audio, sr=sr)\n",
        "                mel_spec_db = librosa.power_to_db(mel_spec, ref=np.max)\n",
        "\n",
        "                # Приводим к диапазону [0, 255] для корректного отображения\n",
        "                norm_spec = cv2.normalize(mel_spec_db, None, 0, 255, cv2.NORM_MINMAX)\n",
        "\n",
        "                # Масштабируем спектрограмму до размера 100x100\n",
        "                resized_spec = cv2.resize(norm_spec, img_size)\n",
        "\n",
        "                # Преобразуем в формат с 3 каналами (RGB)\n",
        "                image_3ch = cv2.cvtColor(resized_spec, cv2.COLOR_GRAY2RGB)\n",
        "\n",
        "                # Добавляем в датасет\n",
        "                X.append(image_3ch)\n",
        "                y.append(label)\n",
        "\n",
        "    # Преобразуем в numpy массивы для дальнейшей обработки\n",
        "    X = np.array(X, dtype=np.float32)\n",
        "    y = np.array(y)\n",
        "\n",
        "    return X, y"
      ]
    },
    {
      "cell_type": "code",
      "source": [
        "# Путь к папке с аудиофайлами\n",
        "from sklearn.model_selection import train_test_split\n",
        "from tensorflow.keras.utils import to_categorical\n",
        "data_directory = '/content/drive/MyDrive/noisy_dataset'\n",
        "\n",
        "# Загрузка данных и их предварительная обработка\n",
        "X, y = load_and_preprocess_data(data_directory)\n",
        "\n",
        "# Преобразование меток в формат one-hot\n",
        "from sklearn.preprocessing import LabelEncoder\n",
        "\n",
        "# Преобразование строковых меток классов в уникальные целочисленные идентификаторы\n",
        "label_encoder = LabelEncoder()\n",
        "y_encoded = label_encoder.fit_transform(y)\n",
        "\n",
        "# Преобразование уникальных идентификаторов в one-hot представление\n",
        "y_categorical = to_categorical(y_encoded)\n",
        "\n",
        "from sklearn.model_selection import train_test_split\n",
        "# Разделение данных на обучающую и тестовую выборки\n",
        "X_train, X_test, y_train, y_test = train_test_split(X, y_categorical, test_size=0.2, random_state=42)\n",
        "X_test, X_val, y_test, y_val = train_test_split(X_test, y_test, test_size = 0.2)\n",
        "# Распечатка размерности данных\n",
        "print(\"Train images shape\",X_train.shape, y_train.shape)\n",
        "print(\"Test images shape\",X_test.shape, y_test.shape)\n",
        "print(\"Evaluate image shape\",X_val.shape, y_val.shape)"
      ],
      "metadata": {
        "id": "MQU355n7S9DS"
      },
      "execution_count": null,
      "outputs": []
    }
  ]
}