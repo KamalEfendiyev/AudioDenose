{
  "nbformat": 4,
  "nbformat_minor": 0,
  "metadata": {
    "colab": {
      "provenance": []
    },
    "kernelspec": {
      "name": "python3",
      "display_name": "Python 3"
    },
    "language_info": {
      "name": "python"
    }
  },
  "cells": [
    {
      "cell_type": "code",
      "source": [
        "from tensorflow.keras import Model\n",
        "from tensorflow.keras.models import Sequential\n",
        "from tensorflow.keras.layers.experimental.preprocessing import Rescaling\n",
        "from tensorflow.keras.layers import Conv2D, MaxPool2D, Dense, Dropout, Flatten, Activation\n",
        "from tensorflow.keras.layers import BatchNormalization, GlobalAveragePooling2D\n",
        "from tensorflow.keras.losses import categorical_crossentropy\n",
        "from tensorflow.keras.callbacks import ModelCheckpoint, ReduceLROnPlateau, EarlyStopping\n",
        "from tensorflow.keras.optimizers import Adam\n",
        "from tensorflow.keras.initializers import HeNormal\n",
        "import tensorflow as tf\n",
        "from tensorflow.keras.applications import EfficientNetB0\n",
        "#input_shape=X_train[0].shape\n",
        "import keras\n",
        "\n",
        "base = tf.keras.applications.InceptionResNetV2(include_top=False, weights='imagenet', input_tensor=None, input_shape=(100,100,3))\n",
        "X = base.output\n",
        "X = keras.layers.Flatten()(X)\n",
        "X = keras.layers.Dense(512, activation = 'relu')(X)\n",
        "X = keras.layers.Dropout(0.5)(X)\n",
        "X = keras.layers.BatchNormalization()(X)\n",
        "X = keras.layers.Dense(256, activation = 'relu')(X)\n",
        "X = keras.layers.Dropout(0.5)(X)\n",
        "X = keras.layers.BatchNormalization()(X)\n",
        "preds = keras.layers.Dense(9, activation = 'softmax')(X)\n",
        "\n",
        "opt=tf.keras.optimizers.Adam(learning_rate=0.001)\n",
        "model = keras.models.Model(inputs = base.input, outputs = preds)\n",
        "model.compile(optimizer = opt , loss = 'categorical_crossentropy', metrics = ['accuracy'])\n",
        "\n",
        "model.summary()\n",
        "\n"
      ],
      "metadata": {
        "id": "-2NPCnkHfDAv"
      },
      "execution_count": null,
      "outputs": []
    }
  ]
}