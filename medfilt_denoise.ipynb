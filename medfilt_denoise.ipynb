{
  "nbformat": 4,
  "nbformat_minor": 0,
  "metadata": {
    "colab": {
      "provenance": []
    },
    "kernelspec": {
      "name": "python3",
      "display_name": "Python 3"
    },
    "language_info": {
      "name": "python"
    }
  },
  "cells": [
    {
      "cell_type": "code",
      "source": [
        "# Medfilt\n",
        "import os\n",
        "from scipy.signal import medfilt\n",
        "import soundfile as sf\n",
        "\n",
        "# Пути к исходной и целевой папкам\n",
        "noisy_dir = \"/content/drive/MyDrive/noisy_dataset/noisy_street_music\"\n",
        "output_dir = \"/content/medfilt_dataset/medfilt_street_music\"\n",
        "\n",
        "# Создание целевой папки, если она не существует\n",
        "os.makedirs(output_dir, exist_ok=True)\n",
        "\n",
        "# Обработка каждого аудиофайла в исходной папке\n",
        "for filename in os.listdir(noisy_dir):\n",
        "    if filename.endswith(\".wav\"):\n",
        "        # Загрузка зашумленного аудиофайла\n",
        "        noisy_file = os.path.join(noisy_dir, filename)\n",
        "        noisy_signal, sr = sf.read(noisy_file)\n",
        "\n",
        "        # Применение медианной фильтрации к аудиосигналу\n",
        "        clean_signal_filtered = medfilt(noisy_signal, kernel_size=3)  # Укажите желаемый размер ядра\n",
        "\n",
        "        # Сохранение отфильтрованного аудиофайла в целевую папку\n",
        "        output_file = os.path.join(output_dir, filename)\n",
        "        sf.write(output_file, clean_signal_filtered, sr)\n",
        "\n",
        "print(\"Медианная фильтрация завершена. Отфильтрованные аудиофайлы сохранены в папке:\", output_dir)\n"
      ],
      "metadata": {
        "id": "-2NPCnkHfDAv"
      },
      "execution_count": null,
      "outputs": []
    }
  ]
}