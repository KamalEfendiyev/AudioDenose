{
  "nbformat": 4,
  "nbformat_minor": 0,
  "metadata": {
    "colab": {
      "provenance": []
    },
    "kernelspec": {
      "name": "python3",
      "display_name": "Python 3"
    },
    "language_info": {
      "name": "python"
    }
  },
  "cells": [
    {
      "cell_type": "code",
      "source": [
        "# Фильрация Винера\n",
        "\n",
        "import os\n",
        "import soundfile as sf\n",
        "from scipy.signal import wiener\n",
        "\n",
        "# Путь к директории с зашумленными аудиофайлами\n",
        "noisy_dir = \"/content/drive/MyDrive/noisy_dataset/noisy_street_music\"\n",
        "\n",
        "# Создаем директорию для сохранения очищенных аудиофайлов\n",
        "output_dir = \"/content/denoisy_dataset/denoisy_street_music\"\n",
        "os.makedirs(output_dir, exist_ok=True)\n",
        "\n",
        "# Применяем фильтр Винера к каждому аудиофайлу в директории с зашумленными аудиофайлами\n",
        "for filename in os.listdir(noisy_dir):\n",
        "    if filename.endswith(\".wav\"):\n",
        "        # Загружаем аудиофайл\n",
        "        noisy_file = os.path.join(noisy_dir, filename)\n",
        "        noisy_signal, sr = sf.read(noisy_file)\n",
        "\n",
        "        # Применяем фильтр Винера к аудиосигналу\n",
        "        clean_signal_filtered = wiener(noisy_signal)\n",
        "\n",
        "        # Сохраняем отфильтрованный аудиофайл\n",
        "        output_file = os.path.join(output_dir, filename)\n",
        "        sf.write(output_file, clean_signal_filtered, sr)\n",
        "\n",
        "print(\"Применение фильтра Винера завершено.\")\n"
      ],
      "metadata": {
        "id": "-2NPCnkHfDAv"
      },
      "execution_count": null,
      "outputs": []
    }
  ]
}